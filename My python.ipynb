{
 "cells": [
  {
   "cell_type": "code",
   "execution_count": null,
   "metadata": {},
   "outputs": [],
   "source": [
    "# to put comment in the line, not cosinder under coding.\n",
    "#Python is Case sensitive language.\n",
    "\n",
    "Rules for declaring variables\n",
    "\n",
    "#while doing variable name declaration there should not be space.\n",
    "#We can use _ while declaring variables\n",
    "#Variable name should not start with number/ any special characters.\n",
    "\n",
    "Introduction to data types\n",
    "1.String-->str\n",
    "2.List-->list\n",
    "3.Tuple-->tuple\n",
    "4.Dictionary-->dict\n",
    "\n",
    "#Data types are broadly classified into 2 categories\n",
    "1. Mutable:- Possible  to do Edit/Modify and Alert when ever need\n",
    "2. Immutable:-No flexibility\n",
    "    \n",
    "Introduction to String data type\n",
    "#A string is nothing but a series of characters, it has been classified as immutable data type\n",
    "    >String can be define in 3 possible ways\n",
    "        1. Using single quotes\n",
    "        2. Using double quotes\n",
    "        3. Using Triple  quotes\n",
    "        but all are same varies from developer to developer, we can user any of it\n",
    "\n",
    "#We can validata send verify what kind of data type it is a type(string)\n",
    "\n",
    "#fstarings:- fstring concept used to create holder and building relation of variables\n",
    "f\"{place holder} {place holder2}\"\n",
    "\\n  used for printing a new line\n",
    "\\t used for printing a tab delimeter\n",
    "# for adding white spaces we have to use \\n and \\t\n",
    "#for removing white spaces from string we have to use \n",
    ".lstrip() -->  #Removing left white space \n",
    ".rstrip() --->#Removing right white space \n",
    ".strip() ---->#Removing white space(Complete i..e, left and right)\n",
    "\n",
    "#Conversion of characters(Upper case and Lower case)\n",
    "1. for making starting letter as upper case-->.title()\n",
    "2. for making entire word/character as upper case-->.upper()\n",
    "3. for making entire word/character as lower case-->.lower()\n",
    " \n",
    "    "
   ]
  },
  {
   "cell_type": "code",
   "execution_count": 3,
   "metadata": {},
   "outputs": [
    {
     "data": {
      "text/plain": [
       "15"
      ]
     },
     "execution_count": 3,
     "metadata": {},
     "output_type": "execute_result"
    }
   ],
   "source": [
    "8+7"
   ]
  },
  {
   "cell_type": "code",
   "execution_count": 73,
   "metadata": {},
   "outputs": [
    {
     "ename": "SyntaxError",
     "evalue": "can't assign to operator (<ipython-input-73-cdb125d9283e>, line 3)",
     "output_type": "error",
     "traceback": [
      "\u001b[1;36m  File \u001b[1;32m\"<ipython-input-73-cdb125d9283e>\"\u001b[1;36m, line \u001b[1;32m3\u001b[0m\n\u001b[1;33m    x+y=5+10\u001b[0m\n\u001b[1;37m            ^\u001b[0m\n\u001b[1;31mSyntaxError\u001b[0m\u001b[1;31m:\u001b[0m can't assign to operator\n"
     ]
    }
   ],
   "source": [
    "x=5\n",
    "y=10\n",
    "x+y=5+10"
   ]
  },
  {
   "cell_type": "code",
   "execution_count": 3,
   "metadata": {},
   "outputs": [
    {
     "name": "stdout",
     "output_type": "stream",
     "text": [
      "sai\n"
     ]
    }
   ],
   "source": [
    "#Variable and string declaration\n",
    "firstname=\"sai\"  #fistname is variable and tring data type\n",
    "print(firstname)"
   ]
  },
  {
   "cell_type": "code",
   "execution_count": 4,
   "metadata": {},
   "outputs": [
    {
     "name": "stdout",
     "output_type": "stream",
     "text": [
      "ram\n"
     ]
    }
   ],
   "source": [
    "firstname='ram'\n",
    "print(firstname)"
   ]
  },
  {
   "cell_type": "code",
   "execution_count": 13,
   "metadata": {},
   "outputs": [
    {
     "name": "stdout",
     "output_type": "stream",
     "text": [
      "Sai\n"
     ]
    }
   ],
   "source": [
    "first_name=\"\"\"Sai\"\"\"\n",
    "print(first_name)"
   ]
  },
  {
   "cell_type": "code",
   "execution_count": 9,
   "metadata": {},
   "outputs": [
    {
     "name": "stdout",
     "output_type": "stream",
     "text": [
      "Ram\n"
     ]
    }
   ],
   "source": [
    "lastname='Ram'\n",
    "print(lastname)"
   ]
  },
  {
   "cell_type": "code",
   "execution_count": 12,
   "metadata": {},
   "outputs": [
    {
     "name": "stdout",
     "output_type": "stream",
     "text": [
      "sairam\n"
     ]
    }
   ],
   "source": [
    "name1='sairam'\n",
    "print(name1)"
   ]
  },
  {
   "cell_type": "code",
   "execution_count": 14,
   "metadata": {},
   "outputs": [
    {
     "data": {
      "text/plain": [
       "str"
      ]
     },
     "execution_count": 14,
     "metadata": {},
     "output_type": "execute_result"
    }
   ],
   "source": [
    "type(name1)    #validation of data type"
   ]
  },
  {
   "cell_type": "code",
   "execution_count": 19,
   "metadata": {},
   "outputs": [
    {
     "data": {
      "text/plain": [
       "str"
      ]
     },
     "execution_count": 19,
     "metadata": {},
     "output_type": "execute_result"
    }
   ],
   "source": [
    "type(lastname)   #validation of data type"
   ]
  },
  {
   "cell_type": "code",
   "execution_count": 20,
   "metadata": {},
   "outputs": [
    {
     "name": "stdout",
     "output_type": "stream",
     "text": [
      "Sairam\n"
     ]
    }
   ],
   "source": [
    "name1='sairam'                           \n",
    "print(name1.title())             #Starting letter as upper case after every space"
   ]
  },
  {
   "cell_type": "code",
   "execution_count": 21,
   "metadata": {},
   "outputs": [
    {
     "name": "stdout",
     "output_type": "stream",
     "text": [
      "sairam\n"
     ]
    }
   ],
   "source": [
    "name1='sairam'                           \n",
    "print(name1.lower())            #All charecters as lower"
   ]
  },
  {
   "cell_type": "code",
   "execution_count": 22,
   "metadata": {},
   "outputs": [
    {
     "name": "stdout",
     "output_type": "stream",
     "text": [
      "SAIRAM\n"
     ]
    }
   ],
   "source": [
    "name1='sairam'                           \n",
    "print(name1.upper())            #All charecter as upper"
   ]
  },
  {
   "cell_type": "code",
   "execution_count": 29,
   "metadata": {},
   "outputs": [
    {
     "name": "stdout",
     "output_type": "stream",
     "text": [
      "sai ram\n"
     ]
    }
   ],
   "source": [
    "na1me='sai ram' \n",
    "print(na1me)"
   ]
  },
  {
   "cell_type": "code",
   "execution_count": 30,
   "metadata": {},
   "outputs": [
    {
     "name": "stdout",
     "output_type": "stream",
     "text": [
      "Sai Ram\n"
     ]
    }
   ],
   "source": [
    "na1me='sai ram'               \n",
    "print(na1me.title())           #Starting letter as upper case after every space"
   ]
  },
  {
   "cell_type": "code",
   "execution_count": null,
   "metadata": {},
   "outputs": [],
   "source": [
    "#f strings"
   ]
  },
  {
   "cell_type": "code",
   "execution_count": 37,
   "metadata": {},
   "outputs": [
    {
     "name": "stdout",
     "output_type": "stream",
     "text": [
      "subrahmanya sai ram denduluri\n"
     ]
    }
   ],
   "source": [
    "first_name='subrahmanya'\n",
    "midde_name='sai ram'\n",
    "last_name='denduluri'\n",
    "full_name=f\"{first_name} {midde_name} {last_name}\"            #f\"{place holder}{place holder2}\"\n",
    "print(full_name)"
   ]
  },
  {
   "cell_type": "code",
   "execution_count": 42,
   "metadata": {},
   "outputs": [
    {
     "name": "stdout",
     "output_type": "stream",
     "text": [
      " Good Moning sairam.denduluri\n"
     ]
    }
   ],
   "source": [
    "midde_name='sairam'\n",
    "last_name='.denduluri'\n",
    "message= f\" Good Moning {midde_name}{last_name}\"             #Enhancement of f string\n",
    "print(message)"
   ]
  },
  {
   "cell_type": "code",
   "execution_count": 43,
   "metadata": {},
   "outputs": [
    {
     "name": "stdout",
     "output_type": "stream",
     "text": [
      " Good Moning Sairam.Denduluri\n"
     ]
    }
   ],
   "source": [
    "midde_name='sairam'\n",
    "last_name='.denduluri'\n",
    "message= f\" Good Moning {midde_name.title()}{last_name.title()}\"   #Enhancement of f string\n",
    "print(message)"
   ]
  },
  {
   "cell_type": "code",
   "execution_count": 44,
   "metadata": {},
   "outputs": [
    {
     "name": "stdout",
     "output_type": "stream",
     "text": [
      " Good Moning SAIRAM.denduluri\n"
     ]
    }
   ],
   "source": [
    "midde_name='sairam'\n",
    "last_name='.denduluri'\n",
    "message= f\" Good Moning {midde_name.upper()}{last_name.lower()}\"   #Enhancement of f string\n",
    "print(message)"
   ]
  },
  {
   "cell_type": "code",
   "execution_count": 45,
   "metadata": {},
   "outputs": [
    {
     "name": "stdout",
     "output_type": "stream",
     "text": [
      "python\n"
     ]
    }
   ],
   "source": [
    "print('python')"
   ]
  },
  {
   "cell_type": "code",
   "execution_count": 51,
   "metadata": {},
   "outputs": [
    {
     "name": "stdout",
     "output_type": "stream",
     "text": [
      "python\n",
      " networking\n",
      "\n"
     ]
    }
   ],
   "source": [
    "print('python\\n','networking\\n')             #\\n  used for printing a new line (adding white space to string)"
   ]
  },
  {
   "cell_type": "code",
   "execution_count": 52,
   "metadata": {},
   "outputs": [
    {
     "name": "stdout",
     "output_type": "stream",
     "text": [
      "\tpython\n"
     ]
    }
   ],
   "source": [
    "print('\\tpython')                           #\\t used for printing a tab delimeter (adding white space to string)"
   ]
  },
  {
   "cell_type": "code",
   "execution_count": 53,
   "metadata": {},
   "outputs": [
    {
     "name": "stdout",
     "output_type": "stream",
     "text": [
      "\n",
      "python\n"
     ]
    }
   ],
   "source": [
    "print('\\npython')"
   ]
  },
  {
   "cell_type": "code",
   "execution_count": 54,
   "metadata": {},
   "outputs": [
    {
     "name": "stdout",
     "output_type": "stream",
     "text": [
      "python \tnetworking\n"
     ]
    }
   ],
   "source": [
    "print('python','\\tnetworking')  "
   ]
  },
  {
   "cell_type": "code",
   "execution_count": 58,
   "metadata": {},
   "outputs": [
    {
     "name": "stdout",
     "output_type": "stream",
     "text": [
      "my fav cricketers are: \t\n",
      "sehwag \t\n",
      "yuvraj \t\n",
      "sachin \t\n",
      "patan\n"
     ]
    }
   ],
   "source": [
    "print('my fav cricketers are:','\\t\\nsehwag','\\t\\nyuvraj','\\t\\nsachin','\\t\\npatan')"
   ]
  },
  {
   "cell_type": "code",
   "execution_count": 59,
   "metadata": {},
   "outputs": [
    {
     "name": "stdout",
     "output_type": "stream",
     "text": [
      "my fav cricketers are: \n",
      "\tsehwag \n",
      "\tyuvraj \n",
      "\tsachin \n",
      "\tpatan\n"
     ]
    }
   ],
   "source": [
    "print('my fav cricketers are:','\\n\\tsehwag','\\n\\tyuvraj','\\n\\tsachin','\\n\\tpatan')"
   ]
  },
  {
   "cell_type": "code",
   "execution_count": 68,
   "metadata": {},
   "outputs": [
    {
     "name": "stdout",
     "output_type": "stream",
     "text": [
      " python netwokting \n"
     ]
    }
   ],
   "source": [
    "x=' python'\n",
    "y='netwokting '\n",
    "print(x,y)"
   ]
  },
  {
   "cell_type": "code",
   "execution_count": 67,
   "metadata": {},
   "outputs": [
    {
     "data": {
      "text/plain": [
       "'python'"
      ]
     },
     "execution_count": 67,
     "metadata": {},
     "output_type": "execute_result"
    }
   ],
   "source": [
    "x.lstrip()                         #Removing left white space "
   ]
  },
  {
   "cell_type": "code",
   "execution_count": 69,
   "metadata": {},
   "outputs": [
    {
     "data": {
      "text/plain": [
       "'netwokting'"
      ]
     },
     "execution_count": 69,
     "metadata": {},
     "output_type": "execute_result"
    }
   ],
   "source": [
    "y.rstrip()                           #Removing right white space"
   ]
  },
  {
   "cell_type": "code",
   "execution_count": 72,
   "metadata": {},
   "outputs": [
    {
     "data": {
      "text/plain": [
       "'python in networking'"
      ]
     },
     "execution_count": 72,
     "metadata": {},
     "output_type": "execute_result"
    }
   ],
   "source": [
    "z=' python in networking '            #Removing white space(Complete i..e, left and right)\n",
    "z.strip()"
   ]
  },
  {
   "cell_type": "code",
   "execution_count": null,
   "metadata": {},
   "outputs": [],
   "source": []
  }
 ],
 "metadata": {
  "kernelspec": {
   "display_name": "Python 3",
   "language": "python",
   "name": "python3"
  },
  "language_info": {
   "codemirror_mode": {
    "name": "ipython",
    "version": 3
   },
   "file_extension": ".py",
   "mimetype": "text/x-python",
   "name": "python",
   "nbconvert_exporter": "python",
   "pygments_lexer": "ipython3",
   "version": "3.7.4"
  }
 },
 "nbformat": 4,
 "nbformat_minor": 2
}
